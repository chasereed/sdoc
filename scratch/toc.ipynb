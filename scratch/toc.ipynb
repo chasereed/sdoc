{
 "cells": [
  {
   "cell_type": "code",
   "execution_count": 4,
   "metadata": {},
   "outputs": [
    {
     "name": "stdout",
     "output_type": "stream",
     "text": [
      " 0\n",
      "   2\n",
      "   1\n",
      "     2\n",
      "       3\n",
      "   1\n",
      "     3\n",
      "     2\n",
      "       3\n",
      "       3\n",
      "     2\n",
      "   1\n",
      "     3\n",
      "     3\n"
     ]
    }
   ],
   "source": [
    "class Node:\n",
    "    def __init__(self, level, children):\n",
    "        self.level = level\n",
    "        self.children = children\n",
    "        self.parent = None\n",
    "\n",
    "    def add_child(self, child):\n",
    "        self.children.append(child)\n",
    "        child.parent = self\n",
    "\n",
    "    def print_tree(self, indent=0):\n",
    "        print(' ' * indent, self.level)\n",
    "        for child in self.children:\n",
    "            child.print_tree(indent + 2)\n",
    "\n",
    "\n",
    "def build_tree(level_list):\n",
    "    root = Node(0, [])\n",
    "    current_node = root\n",
    "    for level in level_list:\n",
    "        new_node = Node(level, [])\n",
    "        while current_node.level >= new_node.level:\n",
    "            current_node = current_node.parent\n",
    "        current_node.add_child(new_node)\n",
    "        current_node = new_node\n",
    "    return root\n",
    "\n",
    "\n",
    "root = build_tree([2, 1, 2, 3, 1, 3, 2, 3, 3, 2, 1, 3, 3])\n",
    "root.print_tree()\n"
   ]
  }
 ],
 "metadata": {
  "kernelspec": {
   "display_name": "Python 3",
   "language": "python",
   "name": "python3"
  },
  "language_info": {
   "codemirror_mode": {
    "name": "ipython",
    "version": 3
   },
   "file_extension": ".py",
   "mimetype": "text/x-python",
   "name": "python",
   "nbconvert_exporter": "python",
   "pygments_lexer": "ipython3",
   "version": "3.12.8"
  }
 },
 "nbformat": 4,
 "nbformat_minor": 2
}
